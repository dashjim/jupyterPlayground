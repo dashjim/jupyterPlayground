{
 "cells": [
  {
   "cell_type": "code",
   "execution_count": 1,
   "metadata": {},
   "outputs": [
    {
     "name": "stderr",
     "output_type": "stream",
     "text": [
      "/Users/jim/anaconda3/envs/tmp_3_6/lib/python3.6/importlib/_bootstrap.py:219: RuntimeWarning: numpy.dtype size changed, may indicate binary incompatibility. Expected 96, got 88\n",
      "  return f(*args, **kwds)\n"
     ]
    },
    {
     "data": {
      "application/vnd.jupyter.widget-view+json": {
       "model_id": "07dd058cc1e74415a69cd0849f0ab346",
       "version_major": 2,
       "version_minor": 0
      },
      "text/plain": [
       "SankeyWidget(groups=[{'id': 'app_behavior', 'type': 'process', 'title': '', 'nodes': ['app_behavior^checking_b…"
      ]
     },
     "metadata": {},
     "output_type": "display_data"
    }
   ],
   "source": [
    "import pandas as pd\n",
    "flows = pd.read_csv('app_behavior_02.csv')\n",
    "flows\n",
    "\n",
    "from floweaver import *\n",
    "\n",
    "# Set the default size to fit the documentation better.\n",
    "size = dict(width=570, height=300)\n",
    "\n",
    "nodes = {\n",
    "    'app_behavior': ProcessGroup(['checking_balance', 'checking_bills', 'invalid_password']),\n",
    "    'evaluation': ProcessGroup(['hit', 'miss']),\n",
    "}\n",
    "ordering = [\n",
    "    ['app_behavior'],\n",
    "    ['evaluation'],\n",
    "]\n",
    "\n",
    "app_behavior = Partition.Simple('process', [\n",
    "    'checking_balance',\n",
    "    'checking_bills',\n",
    "    'invalid_password',\n",
    "])\n",
    "\n",
    "# This is another partition.\n",
    "evaluation = Partition.Simple('process', [\n",
    "    'hit', 'miss'\n",
    "])\n",
    "\n",
    "# Update the ProcessGroup nodes to use the partitions\n",
    "nodes['app_behavior'].partition = app_behavior\n",
    "nodes['evaluation'].partition = evaluation\n",
    "\n",
    "\n",
    "# 1. Define a new waypoint node\n",
    "nodes['intend'] = Waypoint()\n",
    "\n",
    "# 2. Update the ordering to show where the waypoint goes: in the middle\n",
    "ordering = [\n",
    "    ['app_behavior'],\n",
    "    ['intend'],\n",
    "    ['evaluation'],\n",
    "]\n",
    "\n",
    "intend = Partition.Simple('intend', ['installment_campaign', 'delay_payment','billing_installment','reset_password_lookup','reset_password_trading','change_password_trading','others'])\n",
    "\n",
    "\n",
    "# 3. Update the bundle definition to send the flows via the waypoint\n",
    "bundles = [\n",
    "    Bundle('app_behavior', 'evaluation', waypoints=['intend']),\n",
    "]\n",
    "\n",
    "# Update the SDD with the new nodes, ordering & bundles.\n",
    "sdd = SankeyDefinition(nodes, bundles, ordering,\n",
    "                       flow_partition=intend)\n",
    "\n",
    "nodes['intend'] = Waypoint(intend)\n",
    "\n",
    "weave(sdd, flows).to_widget(**size).auto_save_png(\"ivr_rec_flow_chart_auto_save.png\")"
   ]
  },
  {
   "cell_type": "code",
   "execution_count": 2,
   "metadata": {},
   "outputs": [
    {
     "name": "stdout",
     "output_type": "stream",
     "text": [
      "中文\n"
     ]
    }
   ],
   "source": [
    "print('中文')"
   ]
  }
 ],
 "metadata": {
  "kernelspec": {
   "display_name": "Python 3",
   "language": "python",
   "name": "python3"
  },
  "language_info": {
   "codemirror_mode": {
    "name": "ipython",
    "version": 3
   },
   "file_extension": ".py",
   "mimetype": "text/x-python",
   "name": "python",
   "nbconvert_exporter": "python",
   "pygments_lexer": "ipython3",
   "version": "3.6.6"
  }
 },
 "nbformat": 4,
 "nbformat_minor": 2
}
